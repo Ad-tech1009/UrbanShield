{
  "nbformat": 4,
  "nbformat_minor": 0,
  "metadata": {
    "colab": {
      "provenance": []
    },
    "kernelspec": {
      "name": "python3",
      "display_name": "Python 3"
    },
    "language_info": {
      "name": "python"
    }
  },
  "cells": [
    {
      "cell_type": "code",
      "execution_count": null,
      "metadata": {
        "colab": {
          "base_uri": "https://localhost:8080/"
        },
        "id": "w89iBn59d_Hz",
        "outputId": "c295bd55-b69d-4cff-8a78-180e4dc6ea73"
      },
      "outputs": [
        {
          "output_type": "stream",
          "name": "stdout",
          "text": [
            "Mean Squared Error for Severity Score (Regression): 144.44219523809525\n",
            "Accuracy for Severity Level (Classification): 0.7619047619047619\n"
          ]
        }
      ],
      "source": [
        "import pandas as pd\n",
        "from sklearn.model_selection import train_test_split\n",
        "from sklearn.feature_extraction.text import TfidfVectorizer\n",
        "from sklearn.preprocessing import LabelEncoder\n",
        "from sklearn.ensemble import RandomForestRegressor, RandomForestClassifier\n",
        "from sklearn.metrics import mean_squared_error, accuracy_score\n",
        "from sklearn.pipeline import make_pipeline\n",
        "\n",
        "# Load the dataset (replace 'your_file.csv' with the actual file path)\n",
        "df = pd.read_csv('data.csv')\n",
        "\n",
        "# Split data into features (X) and target (y)\n",
        "X = df['Incident Description']\n",
        "y_score = df['Severity Score']  # For regression task (predicting severity score)\n",
        "y_level = df['Severity Level']  # For classification task (predicting severity level)\n",
        "\n",
        "# Split data into train and test sets\n",
        "X_train, X_test, y_train_score, y_test_score, y_train_level, y_test_level = train_test_split(\n",
        "    X, y_score, y_level, test_size=0.2, random_state=42)\n",
        "\n",
        "# Initialize a TfidfVectorizer to convert text data into numeric features\n",
        "vectorizer = TfidfVectorizer(max_features=1000)\n",
        "\n",
        "# Convert text data into numeric features using TF-IDF\n",
        "X_train_vec = vectorizer.fit_transform(X_train)\n",
        "X_test_vec = vectorizer.transform(X_test)\n",
        "\n",
        "# **Model 1: Regression Task (Predict Severity Score)**\n",
        "# Using RandomForestRegressor for predicting the severity score\n",
        "regressor = RandomForestRegressor(n_estimators=100, random_state=42)\n",
        "regressor.fit(X_train_vec, y_train_score)\n",
        "\n",
        "# Predict severity scores\n",
        "y_pred_score = regressor.predict(X_test_vec)\n",
        "\n",
        "# Evaluate the model performance\n",
        "mse = mean_squared_error(y_test_score, y_pred_score)\n",
        "print(f'Mean Squared Error for Severity Score (Regression): {mse}')\n",
        "\n",
        "# **Model 2: Classification Task (Predict Severity Level)**\n",
        "# Encode severity levels into numerical values\n",
        "label_encoder = LabelEncoder()\n",
        "y_train_level_encoded = label_encoder.fit_transform(y_train_level)\n",
        "y_test_level_encoded = label_encoder.transform(y_test_level)\n",
        "\n",
        "# Using RandomForestClassifier for predicting the severity level\n",
        "classifier = RandomForestClassifier(n_estimators=100, random_state=42)\n",
        "classifier.fit(X_train_vec, y_train_level_encoded)\n",
        "\n",
        "# Predict severity levels\n",
        "y_pred_level = classifier.predict(X_test_vec)\n",
        "\n",
        "# Evaluate the classification performance\n",
        "accuracy = accuracy_score(y_test_level_encoded, y_pred_level)\n",
        "print(f'Accuracy for Severity Level (Classification): {accuracy}')\n"
      ]
    },
    {
      "cell_type": "code",
      "source": [
        "!pip install pickle"
      ],
      "metadata": {
        "colab": {
          "base_uri": "https://localhost:8080/"
        },
        "id": "3P4tB7LzelQi",
        "outputId": "52d14c0f-0d81-446b-8c80-8837e8fa8e89"
      },
      "execution_count": null,
      "outputs": [
        {
          "output_type": "stream",
          "name": "stdout",
          "text": [
            "\u001b[31mERROR: Could not find a version that satisfies the requirement pickle (from versions: none)\u001b[0m\u001b[31m\n",
            "\u001b[0m\u001b[31mERROR: No matching distribution found for pickle\u001b[0m\u001b[31m\n",
            "\u001b[0m"
          ]
        }
      ]
    },
    {
      "cell_type": "code",
      "source": [
        "import pickle\n",
        "\n",
        "# Save the trained models (both regressor and classifier)\n",
        "with open('severity_score_model.pkl', 'wb') as f:\n",
        "    pickle.dump(regressor, f)  # Save the regressor\n",
        "\n",
        "with open('severity_level_model.pkl', 'wb') as f:\n",
        "    pickle.dump(classifier, f)  # Save the classifier\n",
        "\n",
        "# Optionally, save the vectorizer as well\n",
        "with open('tfidf_vectorizer.pkl', 'wb') as f:\n",
        "    pickle.dump(vectorizer, f)\n"
      ],
      "metadata": {
        "id": "DJd1SR8efXzT"
      },
      "execution_count": null,
      "outputs": []
    },
    {
      "cell_type": "code",
      "source": [],
      "metadata": {
        "id": "N2llSKuufcFe"
      },
      "execution_count": null,
      "outputs": []
    }
  ]
}