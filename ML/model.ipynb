{
  "cells": [
    {
      "cell_type": "markdown",
      "metadata": {},
      "source": [
        "## ML"
      ]
    },
    {
      "cell_type": "code",
      "execution_count": 1,
      "metadata": {
        "colab": {
          "base_uri": "https://localhost:8080/"
        },
        "id": "w89iBn59d_Hz",
        "outputId": "c295bd55-b69d-4cff-8a78-180e4dc6ea73"
      },
      "outputs": [
        {
          "name": "stdout",
          "output_type": "stream",
          "text": [
            "Mean Squared Error for Severity Score (Regression): 144.44219523809525\n",
            "Accuracy for Severity Level (Classification): 0.7619047619047619\n"
          ]
        }
      ],
      "source": [
        "import pandas as pd\n",
        "from sklearn.model_selection import train_test_split\n",
        "from sklearn.feature_extraction.text import TfidfVectorizer\n",
        "from sklearn.preprocessing import LabelEncoder\n",
        "from sklearn.ensemble import RandomForestRegressor, RandomForestClassifier\n",
        "from sklearn.metrics import mean_squared_error, accuracy_score\n",
        "from sklearn.pipeline import make_pipeline\n",
        "\n",
        "# Load the dataset (replace 'your_file.csv' with the actual file path)\n",
        "df = pd.read_csv('data.csv')\n",
        "\n",
        "# Split data into features (X) and target (y)\n",
        "X = df['Incident Description']\n",
        "y_score = df['Severity Score']  # For regression task (predicting severity score)\n",
        "y_level = df['Severity Level']  # For classification task (predicting severity level)\n",
        "\n",
        "# Split data into train and test sets\n",
        "X_train, X_test, y_train_score, y_test_score, y_train_level, y_test_level = train_test_split(\n",
        "    X, y_score, y_level, test_size=0.2, random_state=42)\n",
        "\n",
        "# Initialize a TfidfVectorizer to convert text data into numeric features\n",
        "vectorizer = TfidfVectorizer(max_features=1000)\n",
        "\n",
        "# Convert text data into numeric features using TF-IDF\n",
        "X_train_vec = vectorizer.fit_transform(X_train)\n",
        "X_test_vec = vectorizer.transform(X_test)\n",
        "\n",
        "# **Model 1: Regression Task (Predict Severity Score)**\n",
        "# Using RandomForestRegressor for predicting the severity score\n",
        "regressor = RandomForestRegressor(n_estimators=100, random_state=42)\n",
        "regressor.fit(X_train_vec, y_train_score)\n",
        "\n",
        "# Predict severity scores\n",
        "y_pred_score = regressor.predict(X_test_vec)\n",
        "\n",
        "# Evaluate the model performance\n",
        "mse = mean_squared_error(y_test_score, y_pred_score)\n",
        "print(f'Mean Squared Error for Severity Score (Regression): {mse}')\n",
        "\n",
        "# **Model 2: Classification Task (Predict Severity Level)**\n",
        "# Encode severity levels into numerical values\n",
        "label_encoder = LabelEncoder()\n",
        "y_train_level_encoded = label_encoder.fit_transform(y_train_level)\n",
        "y_test_level_encoded = label_encoder.transform(y_test_level)\n",
        "\n",
        "# Using RandomForestClassifier for predicting the severity level\n",
        "classifier = RandomForestClassifier(n_estimators=100, random_state=42)\n",
        "classifier.fit(X_train_vec, y_train_level_encoded)\n",
        "\n",
        "# Predict severity levels\n",
        "y_pred_level = classifier.predict(X_test_vec)\n",
        "\n",
        "# Evaluate the classification performance\n",
        "accuracy = accuracy_score(y_test_level_encoded, y_pred_level)\n",
        "print(f'Accuracy for Severity Level (Classification): {accuracy}')\n"
      ]
    },
    {
      "cell_type": "code",
      "execution_count": 2,
      "metadata": {
        "id": "DJd1SR8efXzT"
      },
      "outputs": [],
      "source": [
        "import pickle\n",
        "\n",
        "# Save the trained models (both regressor and classifier)\n",
        "with open('severity_score_model.pkl', 'wb') as f:\n",
        "    pickle.dump(regressor, f)  # Save the regressor\n",
        "\n",
        "with open('severity_level_model.pkl', 'wb') as f:\n",
        "    pickle.dump(classifier, f)  # Save the classifier\n",
        "\n",
        "# Optionally, save the vectorizer as well\n",
        "with open('tfidf_vectorizer.pkl', 'wb') as f:\n",
        "    pickle.dump(vectorizer, f)\n"
      ]
    },
    {
      "cell_type": "markdown",
      "metadata": {},
      "source": [
        "## DL"
      ]
    },
    {
      "cell_type": "markdown",
      "metadata": {},
      "source": [
        "### Severity Score"
      ]
    },
    {
      "cell_type": "code",
      "execution_count": 2,
      "metadata": {
        "id": "N2llSKuufcFe"
      },
      "outputs": [
        {
          "ename": "TypeError",
          "evalue": "IncidentDataset() takes no arguments",
          "output_type": "error",
          "traceback": [
            "\u001b[1;31m---------------------------------------------------------------------------\u001b[0m",
            "\u001b[1;31mTypeError\u001b[0m                                 Traceback (most recent call last)",
            "Cell \u001b[1;32mIn[2], line 54\u001b[0m\n\u001b[0;32m     51\u001b[0m         \u001b[38;5;28;01mreturn\u001b[39;00m {key: torch\u001b[38;5;241m.\u001b[39mtensor(val[idx]) \u001b[38;5;28;01mfor\u001b[39;00m key, val \u001b[38;5;129;01min\u001b[39;00m \u001b[38;5;28mself\u001b[39m\u001b[38;5;241m.\u001b[39mencodings\u001b[38;5;241m.\u001b[39mitems()}, \u001b[38;5;28mself\u001b[39m\u001b[38;5;241m.\u001b[39mlabels[idx]\n\u001b[0;32m     53\u001b[0m \u001b[38;5;66;03m# Create DataLoader\u001b[39;00m\n\u001b[1;32m---> 54\u001b[0m train_dataset \u001b[38;5;241m=\u001b[39m \u001b[43mIncidentDataset\u001b[49m\u001b[43m(\u001b[49m\u001b[43mX_train_tokens\u001b[49m\u001b[43m,\u001b[49m\u001b[43m \u001b[49m\u001b[43my_train_score\u001b[49m\u001b[43m)\u001b[49m\n\u001b[0;32m     55\u001b[0m test_dataset \u001b[38;5;241m=\u001b[39m IncidentDataset(X_test_tokens, y_test_score)\n\u001b[0;32m     57\u001b[0m train_loader \u001b[38;5;241m=\u001b[39m DataLoader(train_dataset, batch_size\u001b[38;5;241m=\u001b[39m\u001b[38;5;241m16\u001b[39m, shuffle\u001b[38;5;241m=\u001b[39m\u001b[38;5;28;01mTrue\u001b[39;00m)\n",
            "\u001b[1;31mTypeError\u001b[0m: IncidentDataset() takes no arguments"
          ]
        }
      ],
      "source": [
        "import torch\n",
        "from transformers import BertTokenizer, BertModel\n",
        "from torch.utils.data import DataLoader, Dataset\n",
        "import torch.nn as nn\n",
        "import torch.optim as optim\n",
        "from sklearn.model_selection import train_test_split\n",
        "import pandas as pd\n",
        "import numpy as np\n",
        "\n",
        "# Load the dataset\n",
        "df = pd.read_csv('data.csv')\n",
        "\n",
        "# Split data\n",
        "X = df['Incident Description']\n",
        "y_score = df['Severity Score']  # Regression task\n",
        "y_level = df['Severity Level']  # Classification task\n",
        "\n",
        "# Train-test split\n",
        "X_train, X_test, y_train_score, y_test_score, y_train_level, y_test_level = train_test_split(\n",
        "    X, y_score, y_level, test_size=0.2, random_state=42)\n",
        "\n",
        "# Load a pre-trained BERT tokenizer\n",
        "tokenizer = BertTokenizer.from_pretrained('bert-base-uncased')\n",
        "\n",
        "# Tokenize text data\n",
        "max_length = 128\n",
        "X_train_tokens = tokenizer(list(X_train), padding=True, truncation=True, max_length=max_length, return_tensors=\"pt\")\n",
        "X_test_tokens = tokenizer(list(X_test), padding=True, truncation=True, max_length=max_length, return_tensors=\"pt\")\n",
        "\n",
        "# Convert labels to tensors\n",
        "y_train_score = torch.tensor(y_train_score.values, dtype=torch.float32)\n",
        "y_test_score = torch.tensor(y_test_score.values, dtype=torch.float32)\n",
        "\n",
        "# Convert classification labels to numeric values\n",
        "from sklearn.preprocessing import LabelEncoder\n",
        "\n",
        "label_encoder = LabelEncoder()\n",
        "y_train_level_encoded = torch.tensor(label_encoder.fit_transform(y_train_level), dtype=torch.long)\n",
        "y_test_level_encoded = torch.tensor(label_encoder.transform(y_test_level), dtype=torch.long)\n",
        "\n",
        "# Custom Dataset\n",
        "class IncidentDataset(Dataset):\n",
        "    def _init_(self, encodings, labels):\n",
        "        self.encodings = encodings\n",
        "        self.labels = labels\n",
        "\n",
        "    def _len_(self):\n",
        "        return len(self.labels)\n",
        "\n",
        "    def _getitem_(self, idx):\n",
        "        return {key: torch.tensor(val[idx]) for key, val in self.encodings.items()}, self.labels[idx]\n",
        "\n",
        "# Create DataLoader\n",
        "train_dataset = IncidentDataset(X_train_tokens, y_train_score)\n",
        "test_dataset = IncidentDataset(X_test_tokens, y_test_score)\n",
        "\n",
        "train_loader = DataLoader(train_dataset, batch_size=16, shuffle=True)\n",
        "test_loader = DataLoader(test_dataset, batch_size=16, shuffle=False)\n",
        "\n",
        "# Define BERT-based Regression Model\n",
        "class BERTRegressor(nn.Module):\n",
        "    def _init_(self):\n",
        "        super(BERTRegressor, self)._init_()\n",
        "        self.bert = BertModel.from_pretrained('bert-base-uncased')\n",
        "        self.regressor = nn.Linear(768, 1)  # 768 is the output size of BERT\n",
        "\n",
        "    def forward(self, input_ids, attention_mask):\n",
        "        outputs = self.bert(input_ids=input_ids, attention_mask=attention_mask)\n",
        "        return self.regressor(outputs.pooler_output).squeeze()\n",
        "\n",
        "# Instantiate model, loss, and optimizer\n",
        "device = torch.device(\"cuda\" if torch.cuda.is_available() else \"cpu\")\n",
        "model = BERTRegressor().to(device)\n",
        "criterion = nn.MSELoss()\n",
        "optimizer = optim.AdamW(model.parameters(), lr=2e-5)\n",
        "\n",
        "# Training loop\n",
        "def train(model, train_loader, criterion, optimizer, epochs=3):\n",
        "    model.train()\n",
        "    for epoch in range(epochs):\n",
        "        total_loss = 0\n",
        "        for batch in train_loader:\n",
        "            optimizer.zero_grad()\n",
        "            inputs, labels = batch\n",
        "            inputs = {key: val.to(device) for key, val in inputs.items()}\n",
        "            labels = labels.to(device)\n",
        "            outputs = model(**inputs)\n",
        "            loss = criterion(outputs, labels)\n",
        "            loss.backward()\n",
        "            optimizer.step()\n",
        "            total_loss += loss.item()\n",
        "        print(f\"Epoch {epoch+1}, Loss: {total_loss/len(train_loader)}\")\n",
        "\n",
        "# Train the model\n",
        "train(model, train_loader, criterion, optimizer)\n",
        "\n",
        "# Evaluation\n",
        "model.eval()\n",
        "preds = []\n",
        "with torch.no_grad():\n",
        "    for batch in test_loader:\n",
        "        inputs, labels = batch\n",
        "        inputs = {key: val.to(device) for key, val in inputs.items()}\n",
        "        outputs = model(**inputs)\n",
        "        preds.extend(outputs.cpu().numpy())\n",
        "\n",
        "# Compute Mean Squared Error\n",
        "mse = mean_squared_error(y_test_score.numpy(), preds)\n",
        "print(f'Mean Squared Error (BERT Regression): {mse}')"
      ]
    },
    {
      "cell_type": "code",
      "execution_count": null,
      "metadata": {},
      "outputs": [],
      "source": [
        "torch.save(model.state_dict(), 'bert_regression_model.pth')\n",
        "print(\"Model saved successfully!\")"
      ]
    },
    {
      "cell_type": "markdown",
      "metadata": {},
      "source": [
        "### Classification"
      ]
    },
    {
      "cell_type": "code",
      "execution_count": null,
      "metadata": {},
      "outputs": [],
      "source": [
        "class BERTClassifier(nn.Module):\n",
        "    def _init_(self, num_classes):\n",
        "        super(BERTClassifier, self)._init_()\n",
        "        self.bert = BertModel.from_pretrained('bert-base-uncased')\n",
        "        self.classifier = nn.Linear(768, num_classes)\n",
        "\n",
        "    def forward(self, input_ids, attention_mask):\n",
        "        outputs = self.bert(input_ids=input_ids, attention_mask=attention_mask)\n",
        "        return self.classifier(outputs.pooler_output)\n",
        "\n",
        "num_classes = len(label_encoder.classes_)\n",
        "classifier = BERTClassifier(num_classes).to(device)\n",
        "\n",
        "# Use CrossEntropyLoss for classification\n",
        "criterion_cls = nn.CrossEntropyLoss()\n",
        "optimizer_cls = optim.AdamW(classifier.parameters(), lr=2e-5)\n",
        "\n",
        "# Convert labels to tensor\n",
        "train_dataset_cls = IncidentDataset(X_train_tokens, y_train_level_encoded)\n",
        "test_dataset_cls = IncidentDataset(X_test_tokens, y_test_level_encoded)\n",
        "\n",
        "train_loader_cls = DataLoader(train_dataset_cls, batch_size=16, shuffle=True)\n",
        "test_loader_cls = DataLoader(test_dataset_cls, batch_size=16, shuffle=False)\n",
        "\n",
        "# Training loop for classification\n",
        "def train_classifier(model, train_loader, criterion, optimizer, epochs=3):\n",
        "    model.train()\n",
        "    for epoch in range(epochs):\n",
        "        total_loss = 0\n",
        "        for batch in train_loader:\n",
        "            optimizer.zero_grad()\n",
        "            inputs, labels = batch\n",
        "            inputs = {key: val.to(device) for key, val in inputs.items()}\n",
        "            labels = labels.to(device)\n",
        "            outputs = model(**inputs)\n",
        "            loss = criterion(outputs, labels)\n",
        "            loss.backward()\n",
        "            optimizer.step()\n",
        "            total_loss += loss.item()\n",
        "        print(f\"Epoch {epoch+1}, Loss: {total_loss/len(train_loader)}\")\n",
        "\n",
        "train_classifier(classifier, train_loader_cls, criterion_cls, optimizer_cls)\n",
        "\n",
        "# Predict & Evaluate\n",
        "classifier.eval()\n",
        "all_preds = []\n",
        "with torch.no_grad():\n",
        "    for batch in test_loader_cls:\n",
        "        inputs, labels = batch\n",
        "        inputs = {key: val.to(device) for key, val in inputs.items()}\n",
        "        outputs = classifier(**inputs)\n",
        "        preds = torch.argmax(outputs, dim=1)\n",
        "        all_preds.extend(preds.cpu().numpy())\n",
        "\n",
        "accuracy = accuracy_score(y_test_level_encoded.numpy(), all_preds)\n",
        "print(f'Accuracy (BERT Classification): {accuracy}')"
      ]
    },
    {
      "cell_type": "code",
      "execution_count": null,
      "metadata": {},
      "outputs": [],
      "source": [
        "torch.save(classifier.state_dict(), 'bert_classification_model.pth')\n",
        "print(\"Model saved successfully!\")"
      ]
    },
    {
      "cell_type": "code",
      "execution_count": null,
      "metadata": {},
      "outputs": [],
      "source": []
    }
  ],
  "metadata": {
    "colab": {
      "provenance": []
    },
    "kernelspec": {
      "display_name": ".venv",
      "language": "python",
      "name": "python3"
    },
    "language_info": {
      "codemirror_mode": {
        "name": "ipython",
        "version": 3
      },
      "file_extension": ".py",
      "mimetype": "text/x-python",
      "name": "python",
      "nbconvert_exporter": "python",
      "pygments_lexer": "ipython3",
      "version": "3.11.4"
    }
  },
  "nbformat": 4,
  "nbformat_minor": 0
}
